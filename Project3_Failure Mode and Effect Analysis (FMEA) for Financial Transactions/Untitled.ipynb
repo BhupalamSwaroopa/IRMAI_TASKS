{
 "cells": [
  {
   "cell_type": "code",
   "execution_count": 1,
   "id": "bb2ba3f9-8ff9-44e9-9686-c890ae5b96a3",
   "metadata": {},
   "outputs": [
    {
     "name": "stdout",
     "output_type": "stream",
     "text": [
      "Defaulting to user installation because normal site-packages is not writeable\n",
      "Requirement already satisfied: pandas in d:\\anaconda\\lib\\site-packages (2.2.2)\n",
      "Requirement already satisfied: neo4j in c:\\users\\hp\\appdata\\roaming\\python\\python312\\site-packages (5.28.1)\n",
      "Requirement already satisfied: numpy>=1.26.0 in d:\\anaconda\\lib\\site-packages (from pandas) (1.26.4)\n",
      "Requirement already satisfied: python-dateutil>=2.8.2 in d:\\anaconda\\lib\\site-packages (from pandas) (2.9.0.post0)\n",
      "Requirement already satisfied: pytz>=2020.1 in d:\\anaconda\\lib\\site-packages (from pandas) (2024.1)\n",
      "Requirement already satisfied: tzdata>=2022.7 in d:\\anaconda\\lib\\site-packages (from pandas) (2023.3)\n",
      "Requirement already satisfied: six>=1.5 in d:\\anaconda\\lib\\site-packages (from python-dateutil>=2.8.2->pandas) (1.16.0)\n",
      "Note: you may need to restart the kernel to use updated packages.\n"
     ]
    }
   ],
   "source": [
    "pip install pandas neo4j"
   ]
  },
  {
   "cell_type": "code",
   "execution_count": 5,
   "id": "4002f64d-fecc-42da-89d1-c46f1a1f9f11",
   "metadata": {},
   "outputs": [
    {
     "name": "stdout",
     "output_type": "stream",
     "text": [
      "⚠️ CSV file missing or empty. Creating sample transactions.csv...\n",
      "✅ Sample transactions.csv created!\n",
      "   id  amount        date    type     status  account_from  account_to\n",
      "0   1   500.0  2024-02-19   debit  completed         12345       67890\n",
      "1   2  1200.5  2024-02-18  credit     failed         67890       12345\n",
      "2   3   750.0  2024-02-17   debit  completed         11111       22222\n"
     ]
    }
   ],
   "source": [
    "import pandas as pd\n",
    "import os\n",
    "\n",
    "file_path = \"transactions.csv\"\n",
    "\n",
    "# Check if file exists and has content\n",
    "if not os.path.exists(file_path) or os.stat(file_path).st_size == 0:\n",
    "    print(\"⚠️ CSV file missing or empty. Creating sample transactions.csv...\")\n",
    "    \n",
    "    sample_data = {\n",
    "        \"id\": [1, 2, 3],\n",
    "        \"amount\": [500.00, 1200.50, 750.00],\n",
    "        \"date\": [\"2024-02-19\", \"2024-02-18\", \"2024-02-17\"],\n",
    "        \"type\": [\"debit\", \"credit\", \"debit\"],\n",
    "        \"status\": [\"completed\", \"failed\", \"completed\"],\n",
    "        \"account_from\": [12345, 67890, 11111],\n",
    "        \"account_to\": [67890, 12345, 22222]\n",
    "    }\n",
    "\n",
    "    df = pd.DataFrame(sample_data)\n",
    "    df.to_csv(file_path, index=False)\n",
    "    print(\"✅ Sample transactions.csv created!\")\n",
    "\n",
    "# Load the CSV file\n",
    "transactions = pd.read_csv(file_path)\n",
    "print(transactions.head())  # Verify data\n"
   ]
  },
  {
   "cell_type": "code",
   "execution_count": 7,
   "id": "af09573e-ba5a-43e8-a0d8-30ab65a3f937",
   "metadata": {},
   "outputs": [],
   "source": [
    "from neo4j import GraphDatabase\n",
    "\n",
    "# Neo4j connection details\n",
    "NEO4J_URI = \"bolt://localhost:7687\"  # Change if necessary\n",
    "NEO4J_USER = \"neo4j\"\n",
    "NEO4J_PASSWORD = \"password\"  # Replace with your actual password\n",
    "\n",
    "def connect_to_neo4j():\n",
    "    \"\"\"Establish a connection to the Neo4j database.\"\"\"\n",
    "    try:\n",
    "        driver = GraphDatabase.driver(NEO4J_URI, auth=(NEO4J_USER, NEO4J_PASSWORD))\n",
    "        print(\"Connected to Neo4j successfully!\")\n",
    "        return driver\n",
    "    except Exception as e:\n",
    "        print(f\"Error connecting to Neo4j: {e}\")\n",
    "        return None\n"
   ]
  },
  {
   "cell_type": "code",
   "execution_count": 8,
   "id": "42646af7-de5b-4462-bc04-6c1211e50987",
   "metadata": {},
   "outputs": [
    {
     "name": "stdout",
     "output_type": "stream",
     "text": [
      "Connected to Neo4j successfully!\n",
      "Transactions inserted successfully!\n"
     ]
    }
   ],
   "source": [
    "def insert_transactions(session, transactions):\n",
    "    \"\"\"Insert transaction data into Neo4j.\"\"\"\n",
    "    query = \"\"\"\n",
    "    UNWIND $transactions AS txn\n",
    "    MERGE (t:Transaction {id: txn.id})\n",
    "    SET t.amount = txn.amount, t.date = txn.date, t.type = txn.type,\n",
    "        t.status = txn.status, t.account_from = txn.account_from, t.account_to = txn.account_to\n",
    "    \"\"\"\n",
    "    \n",
    "    transactions_dict = transactions.to_dict(\"records\")  # Convert DataFrame to list of dictionaries\n",
    "    session.run(query, transactions=transactions_dict)\n",
    "    print(\"Transactions inserted successfully!\")\n",
    "\n",
    "# Execute the insertion process\n",
    "if transactions is not None:\n",
    "    with connect_to_neo4j() as driver:\n",
    "        with driver.session() as session:\n",
    "            insert_transactions(session, transactions)\n"
   ]
  },
  {
   "cell_type": "code",
   "execution_count": 9,
   "id": "a9508b6f-3ad1-4e0e-a46b-7d88cbf75aad",
   "metadata": {},
   "outputs": [],
   "source": [
    "def create_relationships(session):\n",
    "    # Relationship for consecutive transactions (same account, sequential date)\n",
    "    query = \"\"\"\n",
    "    MATCH (t1:Transaction), (t2:Transaction)\n",
    "    WHERE t1.account_from = t2.account_from AND t1.date < t2.date\n",
    "    MERGE (t1)-[:NEXT_TRANSACTION]->(t2)\n",
    "    \"\"\"\n",
    "    session.run(query)\n",
    "    print(\"✅ Consecutive transaction relationships created!\")\n",
    "\n"
   ]
  },
  {
   "cell_type": "code",
   "execution_count": 10,
   "id": "16ca77ae-622a-4066-92e4-ab6948789add",
   "metadata": {},
   "outputs": [],
   "source": [
    "def create_similar_transactions(session):\n",
    "    query = \"\"\"\n",
    "    MATCH (t1:Transaction), (t2:Transaction)\n",
    "    WHERE t1.type = t2.type AND t1.id <> t2.id \n",
    "    AND abs(t1.amount - t2.amount) < 0.05 * t1.amount\n",
    "    MERGE (t1)-[:SIMILAR_TRANSACTION]->(t2)\n",
    "    \"\"\"\n",
    "    session.run(query)\n",
    "    print(\"✅ Similar transaction relationships created!\")\n"
   ]
  },
  {
   "cell_type": "code",
   "execution_count": 12,
   "id": "c39fd7ec-ed34-4a73-8770-ee47499312a7",
   "metadata": {},
   "outputs": [],
   "source": [
    "def create_constraints(session):\n",
    "    \"\"\"\n",
    "    Ensures that transaction IDs are unique in Neo4j.\n",
    "    \"\"\"\n",
    "    query = \"\"\"\n",
    "    CREATE CONSTRAINT transaction_id_unique IF NOT EXISTS \n",
    "    FOR (t:Transaction) REQUIRE t.id IS UNIQUE;\n",
    "    \"\"\"\n",
    "    session.run(query)\n",
    "    print(\"✅ Constraints created to enforce unique transaction IDs.\")\n"
   ]
  },
  {
   "cell_type": "code",
   "execution_count": 13,
   "id": "f4ed0a76-947b-4a16-8b19-5349e14a018b",
   "metadata": {},
   "outputs": [
    {
     "name": "stdout",
     "output_type": "stream",
     "text": [
      "✅ Data loaded successfully!\n",
      "Connected to Neo4j successfully!\n",
      "✅ Constraints created to enforce unique transaction IDs.\n",
      "Transactions inserted successfully!\n",
      "✅ Consecutive transaction relationships created!\n",
      "✅ Similar transaction relationships created!\n",
      "🚀 Graph construction completed!\n"
     ]
    }
   ],
   "source": [
    "if __name__ == \"__main__\":\n",
    "    file_path = \"transactions.csv\"\n",
    "    transactions = load_data_from_csv(file_path)\n",
    "\n",
    "    if transactions is not None:\n",
    "        with connect_to_neo4j() as driver:\n",
    "            with driver.session() as session:\n",
    "                create_constraints(session)  # Ensure unique constraints\n",
    "                insert_transactions(session, transactions)  # Insert transactions\n",
    "                create_relationships(session)  # Link consecutive transactions\n",
    "                create_similar_transactions(session)  # Link similar transactions\n",
    "                print(\"🚀 Graph construction completed!\")\n"
   ]
  },
  {
   "cell_type": "code",
   "execution_count": 14,
   "id": "b55d2a94-96f9-430a-a402-5f2c531117ea",
   "metadata": {},
   "outputs": [],
   "source": [
    "from neo4j import GraphDatabase\n",
    "import networkx as nx\n",
    "import matplotlib.pyplot as plt\n",
    "\n",
    "# Neo4j connection details\n",
    "NEO4J_URI = \"bolt://localhost:7687\"  # Change if using a remote database\n",
    "NEO4J_USER = \"neo4j\"\n",
    "NEO4J_PASSWORD = \"password\"\n",
    "\n",
    "def fetch_transactions():\n",
    "    with GraphDatabase.driver(NEO4J_URI, auth=(NEO4J_USER, NEO4J_PASSWORD)) as driver:\n",
    "        with driver.session() as session:\n",
    "            query = \"\"\"\n",
    "            MATCH (t1:Transaction)-[r]->(t2:Transaction)\n",
    "            RETURN t1.id AS source, t2.id AS target, type(r) AS relation\n",
    "            \"\"\"\n",
    "            result = session.run(query)\n",
    "            return [(record[\"source\"], record[\"target\"], record[\"relation\"]) for record in result]\n",
    "\n",
    "# Fetch transaction graph data\n",
    "transactions = fetch_transactions()\n"
   ]
  },
  {
   "cell_type": "code",
   "execution_count": 17,
   "id": "3026d5f5-2d9b-4fdc-828a-b8ccf40e0ea0",
   "metadata": {},
   "outputs": [
    {
     "name": "stdout",
     "output_type": "stream",
     "text": [
      "Fetched Transactions: []\n",
      "No relationships found in the database!\n"
     ]
    }
   ],
   "source": [
    "def fetch_transactions():\n",
    "    with GraphDatabase.driver(NEO4J_URI, auth=(NEO4J_USER, NEO4J_PASSWORD)) as driver:\n",
    "        with driver.session() as session:\n",
    "            query = \"\"\"\n",
    "            MATCH (t1:Transaction)-[r]->(t2:Transaction)\n",
    "            RETURN t1.id AS source, t2.id AS target, type(r) AS relation\n",
    "            \"\"\"\n",
    "            result = session.run(query)\n",
    "            transactions = [(record[\"source\"], record[\"target\"], record[\"relation\"]) for record in result]\n",
    "            print(\"Fetched Transactions:\", transactions)  # Debugging print\n",
    "            return transactions\n",
    "\n",
    "# Fetch data before visualization\n",
    "transactions = fetch_transactions()\n",
    "\n",
    "# If the list is empty, there are no relationships in Neo4j\n",
    "if not transactions:\n",
    "    print(\"No relationships found in the database!\")\n",
    "else:\n",
    "    visualize_graph(transactions)\n"
   ]
  },
  {
   "cell_type": "code",
   "execution_count": 18,
   "id": "279f5f96-49ef-4728-ab37-b692dd39bea7",
   "metadata": {},
   "outputs": [
    {
     "name": "stdout",
     "output_type": "stream",
     "text": [
      "Relationships created!\n"
     ]
    }
   ],
   "source": [
    "def create_relationships(session):\n",
    "    query = \"\"\"\n",
    "    MATCH (t1:Transaction), (t2:Transaction)\n",
    "    WHERE t1.date < t2.date\n",
    "    MERGE (t1)-[:NEXT]->(t2);\n",
    "    \"\"\"\n",
    "    session.run(query)\n",
    "    print(\"Relationships created!\")\n",
    "\n",
    "# Run this function in main()\n",
    "with GraphDatabase.driver(NEO4J_URI, auth=(NEO4J_USER, NEO4J_PASSWORD)) as driver:\n",
    "    with driver.session() as session:\n",
    "        create_relationships(session)\n"
   ]
  },
  {
   "cell_type": "code",
   "execution_count": 20,
   "id": "d3d6d23f-6041-4ff7-8378-c5a26f091e72",
   "metadata": {},
   "outputs": [
    {
     "data": {
      "application/vnd.plotly.v1+json": {
       "config": {
        "plotlyServerURL": "https://plot.ly"
       },
       "data": [
        {
         "hoverinfo": "none",
         "line": {
          "color": "gray",
          "width": 1
         },
         "mode": "lines",
         "type": "scatter",
         "x": [],
         "y": []
        },
        {
         "marker": {
          "color": "blue",
          "line": {
           "color": "black",
           "width": 2
          },
          "size": 20
         },
         "mode": "markers+text",
         "text": [],
         "textposition": "top center",
         "type": "scatter",
         "x": [],
         "y": []
        }
       ],
       "layout": {
        "autosize": true,
        "showlegend": false,
        "template": {
         "data": {
          "bar": [
           {
            "error_x": {
             "color": "#2a3f5f"
            },
            "error_y": {
             "color": "#2a3f5f"
            },
            "marker": {
             "line": {
              "color": "#E5ECF6",
              "width": 0.5
             },
             "pattern": {
              "fillmode": "overlay",
              "size": 10,
              "solidity": 0.2
             }
            },
            "type": "bar"
           }
          ],
          "barpolar": [
           {
            "marker": {
             "line": {
              "color": "#E5ECF6",
              "width": 0.5
             },
             "pattern": {
              "fillmode": "overlay",
              "size": 10,
              "solidity": 0.2
             }
            },
            "type": "barpolar"
           }
          ],
          "carpet": [
           {
            "aaxis": {
             "endlinecolor": "#2a3f5f",
             "gridcolor": "white",
             "linecolor": "white",
             "minorgridcolor": "white",
             "startlinecolor": "#2a3f5f"
            },
            "baxis": {
             "endlinecolor": "#2a3f5f",
             "gridcolor": "white",
             "linecolor": "white",
             "minorgridcolor": "white",
             "startlinecolor": "#2a3f5f"
            },
            "type": "carpet"
           }
          ],
          "choropleth": [
           {
            "colorbar": {
             "outlinewidth": 0,
             "ticks": ""
            },
            "type": "choropleth"
           }
          ],
          "contour": [
           {
            "colorbar": {
             "outlinewidth": 0,
             "ticks": ""
            },
            "colorscale": [
             [
              0,
              "#0d0887"
             ],
             [
              0.1111111111111111,
              "#46039f"
             ],
             [
              0.2222222222222222,
              "#7201a8"
             ],
             [
              0.3333333333333333,
              "#9c179e"
             ],
             [
              0.4444444444444444,
              "#bd3786"
             ],
             [
              0.5555555555555556,
              "#d8576b"
             ],
             [
              0.6666666666666666,
              "#ed7953"
             ],
             [
              0.7777777777777778,
              "#fb9f3a"
             ],
             [
              0.8888888888888888,
              "#fdca26"
             ],
             [
              1,
              "#f0f921"
             ]
            ],
            "type": "contour"
           }
          ],
          "contourcarpet": [
           {
            "colorbar": {
             "outlinewidth": 0,
             "ticks": ""
            },
            "type": "contourcarpet"
           }
          ],
          "heatmap": [
           {
            "colorbar": {
             "outlinewidth": 0,
             "ticks": ""
            },
            "colorscale": [
             [
              0,
              "#0d0887"
             ],
             [
              0.1111111111111111,
              "#46039f"
             ],
             [
              0.2222222222222222,
              "#7201a8"
             ],
             [
              0.3333333333333333,
              "#9c179e"
             ],
             [
              0.4444444444444444,
              "#bd3786"
             ],
             [
              0.5555555555555556,
              "#d8576b"
             ],
             [
              0.6666666666666666,
              "#ed7953"
             ],
             [
              0.7777777777777778,
              "#fb9f3a"
             ],
             [
              0.8888888888888888,
              "#fdca26"
             ],
             [
              1,
              "#f0f921"
             ]
            ],
            "type": "heatmap"
           }
          ],
          "heatmapgl": [
           {
            "colorbar": {
             "outlinewidth": 0,
             "ticks": ""
            },
            "colorscale": [
             [
              0,
              "#0d0887"
             ],
             [
              0.1111111111111111,
              "#46039f"
             ],
             [
              0.2222222222222222,
              "#7201a8"
             ],
             [
              0.3333333333333333,
              "#9c179e"
             ],
             [
              0.4444444444444444,
              "#bd3786"
             ],
             [
              0.5555555555555556,
              "#d8576b"
             ],
             [
              0.6666666666666666,
              "#ed7953"
             ],
             [
              0.7777777777777778,
              "#fb9f3a"
             ],
             [
              0.8888888888888888,
              "#fdca26"
             ],
             [
              1,
              "#f0f921"
             ]
            ],
            "type": "heatmapgl"
           }
          ],
          "histogram": [
           {
            "marker": {
             "pattern": {
              "fillmode": "overlay",
              "size": 10,
              "solidity": 0.2
             }
            },
            "type": "histogram"
           }
          ],
          "histogram2d": [
           {
            "colorbar": {
             "outlinewidth": 0,
             "ticks": ""
            },
            "colorscale": [
             [
              0,
              "#0d0887"
             ],
             [
              0.1111111111111111,
              "#46039f"
             ],
             [
              0.2222222222222222,
              "#7201a8"
             ],
             [
              0.3333333333333333,
              "#9c179e"
             ],
             [
              0.4444444444444444,
              "#bd3786"
             ],
             [
              0.5555555555555556,
              "#d8576b"
             ],
             [
              0.6666666666666666,
              "#ed7953"
             ],
             [
              0.7777777777777778,
              "#fb9f3a"
             ],
             [
              0.8888888888888888,
              "#fdca26"
             ],
             [
              1,
              "#f0f921"
             ]
            ],
            "type": "histogram2d"
           }
          ],
          "histogram2dcontour": [
           {
            "colorbar": {
             "outlinewidth": 0,
             "ticks": ""
            },
            "colorscale": [
             [
              0,
              "#0d0887"
             ],
             [
              0.1111111111111111,
              "#46039f"
             ],
             [
              0.2222222222222222,
              "#7201a8"
             ],
             [
              0.3333333333333333,
              "#9c179e"
             ],
             [
              0.4444444444444444,
              "#bd3786"
             ],
             [
              0.5555555555555556,
              "#d8576b"
             ],
             [
              0.6666666666666666,
              "#ed7953"
             ],
             [
              0.7777777777777778,
              "#fb9f3a"
             ],
             [
              0.8888888888888888,
              "#fdca26"
             ],
             [
              1,
              "#f0f921"
             ]
            ],
            "type": "histogram2dcontour"
           }
          ],
          "mesh3d": [
           {
            "colorbar": {
             "outlinewidth": 0,
             "ticks": ""
            },
            "type": "mesh3d"
           }
          ],
          "parcoords": [
           {
            "line": {
             "colorbar": {
              "outlinewidth": 0,
              "ticks": ""
             }
            },
            "type": "parcoords"
           }
          ],
          "pie": [
           {
            "automargin": true,
            "type": "pie"
           }
          ],
          "scatter": [
           {
            "fillpattern": {
             "fillmode": "overlay",
             "size": 10,
             "solidity": 0.2
            },
            "type": "scatter"
           }
          ],
          "scatter3d": [
           {
            "line": {
             "colorbar": {
              "outlinewidth": 0,
              "ticks": ""
             }
            },
            "marker": {
             "colorbar": {
              "outlinewidth": 0,
              "ticks": ""
             }
            },
            "type": "scatter3d"
           }
          ],
          "scattercarpet": [
           {
            "marker": {
             "colorbar": {
              "outlinewidth": 0,
              "ticks": ""
             }
            },
            "type": "scattercarpet"
           }
          ],
          "scattergeo": [
           {
            "marker": {
             "colorbar": {
              "outlinewidth": 0,
              "ticks": ""
             }
            },
            "type": "scattergeo"
           }
          ],
          "scattergl": [
           {
            "marker": {
             "colorbar": {
              "outlinewidth": 0,
              "ticks": ""
             }
            },
            "type": "scattergl"
           }
          ],
          "scattermapbox": [
           {
            "marker": {
             "colorbar": {
              "outlinewidth": 0,
              "ticks": ""
             }
            },
            "type": "scattermapbox"
           }
          ],
          "scatterpolar": [
           {
            "marker": {
             "colorbar": {
              "outlinewidth": 0,
              "ticks": ""
             }
            },
            "type": "scatterpolar"
           }
          ],
          "scatterpolargl": [
           {
            "marker": {
             "colorbar": {
              "outlinewidth": 0,
              "ticks": ""
             }
            },
            "type": "scatterpolargl"
           }
          ],
          "scatterternary": [
           {
            "marker": {
             "colorbar": {
              "outlinewidth": 0,
              "ticks": ""
             }
            },
            "type": "scatterternary"
           }
          ],
          "surface": [
           {
            "colorbar": {
             "outlinewidth": 0,
             "ticks": ""
            },
            "colorscale": [
             [
              0,
              "#0d0887"
             ],
             [
              0.1111111111111111,
              "#46039f"
             ],
             [
              0.2222222222222222,
              "#7201a8"
             ],
             [
              0.3333333333333333,
              "#9c179e"
             ],
             [
              0.4444444444444444,
              "#bd3786"
             ],
             [
              0.5555555555555556,
              "#d8576b"
             ],
             [
              0.6666666666666666,
              "#ed7953"
             ],
             [
              0.7777777777777778,
              "#fb9f3a"
             ],
             [
              0.8888888888888888,
              "#fdca26"
             ],
             [
              1,
              "#f0f921"
             ]
            ],
            "type": "surface"
           }
          ],
          "table": [
           {
            "cells": {
             "fill": {
              "color": "#EBF0F8"
             },
             "line": {
              "color": "white"
             }
            },
            "header": {
             "fill": {
              "color": "#C8D4E3"
             },
             "line": {
              "color": "white"
             }
            },
            "type": "table"
           }
          ]
         },
         "layout": {
          "annotationdefaults": {
           "arrowcolor": "#2a3f5f",
           "arrowhead": 0,
           "arrowwidth": 1
          },
          "autotypenumbers": "strict",
          "coloraxis": {
           "colorbar": {
            "outlinewidth": 0,
            "ticks": ""
           }
          },
          "colorscale": {
           "diverging": [
            [
             0,
             "#8e0152"
            ],
            [
             0.1,
             "#c51b7d"
            ],
            [
             0.2,
             "#de77ae"
            ],
            [
             0.3,
             "#f1b6da"
            ],
            [
             0.4,
             "#fde0ef"
            ],
            [
             0.5,
             "#f7f7f7"
            ],
            [
             0.6,
             "#e6f5d0"
            ],
            [
             0.7,
             "#b8e186"
            ],
            [
             0.8,
             "#7fbc41"
            ],
            [
             0.9,
             "#4d9221"
            ],
            [
             1,
             "#276419"
            ]
           ],
           "sequential": [
            [
             0,
             "#0d0887"
            ],
            [
             0.1111111111111111,
             "#46039f"
            ],
            [
             0.2222222222222222,
             "#7201a8"
            ],
            [
             0.3333333333333333,
             "#9c179e"
            ],
            [
             0.4444444444444444,
             "#bd3786"
            ],
            [
             0.5555555555555556,
             "#d8576b"
            ],
            [
             0.6666666666666666,
             "#ed7953"
            ],
            [
             0.7777777777777778,
             "#fb9f3a"
            ],
            [
             0.8888888888888888,
             "#fdca26"
            ],
            [
             1,
             "#f0f921"
            ]
           ],
           "sequentialminus": [
            [
             0,
             "#0d0887"
            ],
            [
             0.1111111111111111,
             "#46039f"
            ],
            [
             0.2222222222222222,
             "#7201a8"
            ],
            [
             0.3333333333333333,
             "#9c179e"
            ],
            [
             0.4444444444444444,
             "#bd3786"
            ],
            [
             0.5555555555555556,
             "#d8576b"
            ],
            [
             0.6666666666666666,
             "#ed7953"
            ],
            [
             0.7777777777777778,
             "#fb9f3a"
            ],
            [
             0.8888888888888888,
             "#fdca26"
            ],
            [
             1,
             "#f0f921"
            ]
           ]
          },
          "colorway": [
           "#636efa",
           "#EF553B",
           "#00cc96",
           "#ab63fa",
           "#FFA15A",
           "#19d3f3",
           "#FF6692",
           "#B6E880",
           "#FF97FF",
           "#FECB52"
          ],
          "font": {
           "color": "#2a3f5f"
          },
          "geo": {
           "bgcolor": "white",
           "lakecolor": "white",
           "landcolor": "#E5ECF6",
           "showlakes": true,
           "showland": true,
           "subunitcolor": "white"
          },
          "hoverlabel": {
           "align": "left"
          },
          "hovermode": "closest",
          "mapbox": {
           "style": "light"
          },
          "paper_bgcolor": "white",
          "plot_bgcolor": "#E5ECF6",
          "polar": {
           "angularaxis": {
            "gridcolor": "white",
            "linecolor": "white",
            "ticks": ""
           },
           "bgcolor": "#E5ECF6",
           "radialaxis": {
            "gridcolor": "white",
            "linecolor": "white",
            "ticks": ""
           }
          },
          "scene": {
           "xaxis": {
            "backgroundcolor": "#E5ECF6",
            "gridcolor": "white",
            "gridwidth": 2,
            "linecolor": "white",
            "showbackground": true,
            "ticks": "",
            "zerolinecolor": "white"
           },
           "yaxis": {
            "backgroundcolor": "#E5ECF6",
            "gridcolor": "white",
            "gridwidth": 2,
            "linecolor": "white",
            "showbackground": true,
            "ticks": "",
            "zerolinecolor": "white"
           },
           "zaxis": {
            "backgroundcolor": "#E5ECF6",
            "gridcolor": "white",
            "gridwidth": 2,
            "linecolor": "white",
            "showbackground": true,
            "ticks": "",
            "zerolinecolor": "white"
           }
          },
          "shapedefaults": {
           "line": {
            "color": "#2a3f5f"
           }
          },
          "ternary": {
           "aaxis": {
            "gridcolor": "white",
            "linecolor": "white",
            "ticks": ""
           },
           "baxis": {
            "gridcolor": "white",
            "linecolor": "white",
            "ticks": ""
           },
           "bgcolor": "#E5ECF6",
           "caxis": {
            "gridcolor": "white",
            "linecolor": "white",
            "ticks": ""
           }
          },
          "title": {
           "x": 0.05
          },
          "xaxis": {
           "automargin": true,
           "gridcolor": "white",
           "linecolor": "white",
           "ticks": "",
           "title": {
            "standoff": 15
           },
           "zerolinecolor": "white",
           "zerolinewidth": 2
          },
          "yaxis": {
           "automargin": true,
           "gridcolor": "white",
           "linecolor": "white",
           "ticks": "",
           "title": {
            "standoff": 15
           },
           "zerolinecolor": "white",
           "zerolinewidth": 2
          }
         }
        },
        "title": {
         "text": "Financial Transactions Graph"
        },
        "xaxis": {
         "autorange": true,
         "range": [
          -1,
          6
         ]
        },
        "yaxis": {
         "autorange": true,
         "range": [
          -1,
          4
         ]
        }
       }
      },
      "image/png": "[encoded data removed]",
      "text/html": [
       "<div>                            <div id=\"b6be2ec6-9b86-4c47-ac34-ca5808dc4aae\" class=\"plotly-graph-div\" style=\"height:525px; width:100%;\"></div>            <script type=\"text/javascript\">                require([\"plotly\"], function(Plotly) {                    window.PLOTLYENV=window.PLOTLYENV || {};                                    if (document.getElementById(\"b6be2ec6-9b86-4c47-ac34-ca5808dc4aae\")) {                    Plotly.newPlot(                        \"b6be2ec6-9b86-4c47-ac34-ca5808dc4aae\",                        [{\"hoverinfo\":\"none\",\"line\":{\"color\":\"gray\",\"width\":1},\"mode\":\"lines\",\"x\":[],\"y\":[],\"type\":\"scatter\"},{\"marker\":{\"color\":\"blue\",\"line\":{\"color\":\"black\",\"width\":2},\"size\":20},\"mode\":\"markers+text\",\"text\":[],\"textposition\":\"top center\",\"x\":[],\"y\":[],\"type\":\"scatter\"}],                        {\"template\":{\"data\":{\"histogram2dcontour\":[{\"type\":\"histogram2dcontour\",\"colorbar\":{\"outlinewidth\":0,\"ticks\":\"\"},\"colorscale\":[[0.0,\"#0d0887\"],[0.1111111111111111,\"#46039f\"],[0.2222222222222222,\"#7201a8\"],[0.3333333333333333,\"#9c179e\"],[0.4444444444444444,\"#bd3786\"],[0.5555555555555556,\"#d8576b\"],[0.6666666666666666,\"#ed7953\"],[0.7777777777777778,\"#fb9f3a\"],[0.8888888888888888,\"#fdca26\"],[1.0,\"#f0f921\"]]}],\"choropleth\":[{\"type\":\"choropleth\",\"colorbar\":{\"outlinewidth\":0,\"ticks\":\"\"}}],\"histogram2d\":[{\"type\":\"histogram2d\",\"colorbar\":{\"outlinewidth\":0,\"ticks\":\"\"},\"colorscale\":[[0.0,\"#0d0887\"],[0.1111111111111111,\"#46039f\"],[0.2222222222222222,\"#7201a8\"],[0.3333333333333333,\"#9c179e\"],[0.4444444444444444,\"#bd3786\"],[0.5555555555555556,\"#d8576b\"],[0.6666666666666666,\"#ed7953\"],[0.7777777777777778,\"#fb9f3a\"],[0.8888888888888888,\"#fdca26\"],[1.0,\"#f0f921\"]]}],\"heatmap\":[{\"type\":\"heatmap\",\"colorbar\":{\"outlinewidth\":0,\"ticks\":\"\"},\"colorscale\":[[0.0,\"#0d0887\"],[0.1111111111111111,\"#46039f\"],[0.2222222222222222,\"#7201a8\"],[0.3333333333333333,\"#9c179e\"],[0.4444444444444444,\"#bd3786\"],[0.5555555555555556,\"#d8576b\"],[0.6666666666666666,\"#ed7953\"],[0.7777777777777778,\"#fb9f3a\"],[0.8888888888888888,\"#fdca26\"],[1.0,\"#f0f921\"]]}],\"heatmapgl\":[{\"type\":\"heatmapgl\",\"colorbar\":{\"outlinewidth\":0,\"ticks\":\"\"},\"colorscale\":[[0.0,\"#0d0887\"],[0.1111111111111111,\"#46039f\"],[0.2222222222222222,\"#7201a8\"],[0.3333333333333333,\"#9c179e\"],[0.4444444444444444,\"#bd3786\"],[0.5555555555555556,\"#d8576b\"],[0.6666666666666666,\"#ed7953\"],[0.7777777777777778,\"#fb9f3a\"],[0.8888888888888888,\"#fdca26\"],[1.0,\"#f0f921\"]]}],\"contourcarpet\":[{\"type\":\"contourcarpet\",\"colorbar\":{\"outlinewidth\":0,\"ticks\":\"\"}}],\"contour\":[{\"type\":\"contour\",\"colorbar\":{\"outlinewidth\":0,\"ticks\":\"\"},\"colorscale\":[[0.0,\"#0d0887\"],[0.1111111111111111,\"#46039f\"],[0.2222222222222222,\"#7201a8\"],[0.3333333333333333,\"#9c179e\"],[0.4444444444444444,\"#bd3786\"],[0.5555555555555556,\"#d8576b\"],[0.6666666666666666,\"#ed7953\"],[0.7777777777777778,\"#fb9f3a\"],[0.8888888888888888,\"#fdca26\"],[1.0,\"#f0f921\"]]}],\"surface\":[{\"type\":\"surface\",\"colorbar\":{\"outlinewidth\":0,\"ticks\":\"\"},\"colorscale\":[[0.0,\"#0d0887\"],[0.1111111111111111,\"#46039f\"],[0.2222222222222222,\"#7201a8\"],[0.3333333333333333,\"#9c179e\"],[0.4444444444444444,\"#bd3786\"],[0.5555555555555556,\"#d8576b\"],[0.6666666666666666,\"#ed7953\"],[0.7777777777777778,\"#fb9f3a\"],[0.8888888888888888,\"#fdca26\"],[1.0,\"#f0f921\"]]}],\"mesh3d\":[{\"type\":\"mesh3d\",\"colorbar\":{\"outlinewidth\":0,\"ticks\":\"\"}}],\"scatter\":[{\"fillpattern\":{\"fillmode\":\"overlay\",\"size\":10,\"solidity\":0.2},\"type\":\"scatter\"}],\"parcoords\":[{\"type\":\"parcoords\",\"line\":{\"colorbar\":{\"outlinewidth\":0,\"ticks\":\"\"}}}],\"scatterpolargl\":[{\"type\":\"scatterpolargl\",\"marker\":{\"colorbar\":{\"outlinewidth\":0,\"ticks\":\"\"}}}],\"bar\":[{\"error_x\":{\"color\":\"#2a3f5f\"},\"error_y\":{\"color\":\"#2a3f5f\"},\"marker\":{\"line\":{\"color\":\"#E5ECF6\",\"width\":0.5},\"pattern\":{\"fillmode\":\"overlay\",\"size\":10,\"solidity\":0.2}},\"type\":\"bar\"}],\"scattergeo\":[{\"type\":\"scattergeo\",\"marker\":{\"colorbar\":{\"outlinewidth\":0,\"ticks\":\"\"}}}],\"scatterpolar\":[{\"type\":\"scatterpolar\",\"marker\":{\"colorbar\":{\"outlinewidth\":0,\"ticks\":\"\"}}}],\"histogram\":[{\"marker\":{\"pattern\":{\"fillmode\":\"overlay\",\"size\":10,\"solidity\":0.2}},\"type\":\"histogram\"}],\"scattergl\":[{\"type\":\"scattergl\",\"marker\":{\"colorbar\":{\"outlinewidth\":0,\"ticks\":\"\"}}}],\"scatter3d\":[{\"type\":\"scatter3d\",\"line\":{\"colorbar\":{\"outlinewidth\":0,\"ticks\":\"\"}},\"marker\":{\"colorbar\":{\"outlinewidth\":0,\"ticks\":\"\"}}}],\"scattermapbox\":[{\"type\":\"scattermapbox\",\"marker\":{\"colorbar\":{\"outlinewidth\":0,\"ticks\":\"\"}}}],\"scatterternary\":[{\"type\":\"scatterternary\",\"marker\":{\"colorbar\":{\"outlinewidth\":0,\"ticks\":\"\"}}}],\"scattercarpet\":[{\"type\":\"scattercarpet\",\"marker\":{\"colorbar\":{\"outlinewidth\":0,\"ticks\":\"\"}}}],\"carpet\":[{\"aaxis\":{\"endlinecolor\":\"#2a3f5f\",\"gridcolor\":\"white\",\"linecolor\":\"white\",\"minorgridcolor\":\"white\",\"startlinecolor\":\"#2a3f5f\"},\"baxis\":{\"endlinecolor\":\"#2a3f5f\",\"gridcolor\":\"white\",\"linecolor\":\"white\",\"minorgridcolor\":\"white\",\"startlinecolor\":\"#2a3f5f\"},\"type\":\"carpet\"}],\"table\":[{\"cells\":{\"fill\":{\"color\":\"#EBF0F8\"},\"line\":{\"color\":\"white\"}},\"header\":{\"fill\":{\"color\":\"#C8D4E3\"},\"line\":{\"color\":\"white\"}},\"type\":\"table\"}],\"barpolar\":[{\"marker\":{\"line\":{\"color\":\"#E5ECF6\",\"width\":0.5},\"pattern\":{\"fillmode\":\"overlay\",\"size\":10,\"solidity\":0.2}},\"type\":\"barpolar\"}],\"pie\":[{\"automargin\":true,\"type\":\"pie\"}]},\"layout\":{\"autotypenumbers\":\"strict\",\"colorway\":[\"#636efa\",\"#EF553B\",\"#00cc96\",\"#ab63fa\",\"#FFA15A\",\"#19d3f3\",\"#FF6692\",\"#B6E880\",\"#FF97FF\",\"#FECB52\"],\"font\":{\"color\":\"#2a3f5f\"},\"hovermode\":\"closest\",\"hoverlabel\":{\"align\":\"left\"},\"paper_bgcolor\":\"white\",\"plot_bgcolor\":\"#E5ECF6\",\"polar\":{\"bgcolor\":\"#E5ECF6\",\"angularaxis\":{\"gridcolor\":\"white\",\"linecolor\":\"white\",\"ticks\":\"\"},\"radialaxis\":{\"gridcolor\":\"white\",\"linecolor\":\"white\",\"ticks\":\"\"}},\"ternary\":{\"bgcolor\":\"#E5ECF6\",\"aaxis\":{\"gridcolor\":\"white\",\"linecolor\":\"white\",\"ticks\":\"\"},\"baxis\":{\"gridcolor\":\"white\",\"linecolor\":\"white\",\"ticks\":\"\"},\"caxis\":{\"gridcolor\":\"white\",\"linecolor\":\"white\",\"ticks\":\"\"}},\"coloraxis\":{\"colorbar\":{\"outlinewidth\":0,\"ticks\":\"\"}},\"colorscale\":{\"sequential\":[[0.0,\"#0d0887\"],[0.1111111111111111,\"#46039f\"],[0.2222222222222222,\"#7201a8\"],[0.3333333333333333,\"#9c179e\"],[0.4444444444444444,\"#bd3786\"],[0.5555555555555556,\"#d8576b\"],[0.6666666666666666,\"#ed7953\"],[0.7777777777777778,\"#fb9f3a\"],[0.8888888888888888,\"#fdca26\"],[1.0,\"#f0f921\"]],\"sequentialminus\":[[0.0,\"#0d0887\"],[0.1111111111111111,\"#46039f\"],[0.2222222222222222,\"#7201a8\"],[0.3333333333333333,\"#9c179e\"],[0.4444444444444444,\"#bd3786\"],[0.5555555555555556,\"#d8576b\"],[0.6666666666666666,\"#ed7953\"],[0.7777777777777778,\"#fb9f3a\"],[0.8888888888888888,\"#fdca26\"],[1.0,\"#f0f921\"]],\"diverging\":[[0,\"#8e0152\"],[0.1,\"#c51b7d\"],[0.2,\"#de77ae\"],[0.3,\"#f1b6da\"],[0.4,\"#fde0ef\"],[0.5,\"#f7f7f7\"],[0.6,\"#e6f5d0\"],[0.7,\"#b8e186\"],[0.8,\"#7fbc41\"],[0.9,\"#4d9221\"],[1,\"#276419\"]]},\"xaxis\":{\"gridcolor\":\"white\",\"linecolor\":\"white\",\"ticks\":\"\",\"title\":{\"standoff\":15},\"zerolinecolor\":\"white\",\"automargin\":true,\"zerolinewidth\":2},\"yaxis\":{\"gridcolor\":\"white\",\"linecolor\":\"white\",\"ticks\":\"\",\"title\":{\"standoff\":15},\"zerolinecolor\":\"white\",\"automargin\":true,\"zerolinewidth\":2},\"scene\":{\"xaxis\":{\"backgroundcolor\":\"#E5ECF6\",\"gridcolor\":\"white\",\"linecolor\":\"white\",\"showbackground\":true,\"ticks\":\"\",\"zerolinecolor\":\"white\",\"gridwidth\":2},\"yaxis\":{\"backgroundcolor\":\"#E5ECF6\",\"gridcolor\":\"white\",\"linecolor\":\"white\",\"showbackground\":true,\"ticks\":\"\",\"zerolinecolor\":\"white\",\"gridwidth\":2},\"zaxis\":{\"backgroundcolor\":\"#E5ECF6\",\"gridcolor\":\"white\",\"linecolor\":\"white\",\"showbackground\":true,\"ticks\":\"\",\"zerolinecolor\":\"white\",\"gridwidth\":2}},\"shapedefaults\":{\"line\":{\"color\":\"#2a3f5f\"}},\"annotationdefaults\":{\"arrowcolor\":\"#2a3f5f\",\"arrowhead\":0,\"arrowwidth\":1},\"geo\":{\"bgcolor\":\"white\",\"landcolor\":\"#E5ECF6\",\"subunitcolor\":\"white\",\"showland\":true,\"showlakes\":true,\"lakecolor\":\"white\"},\"title\":{\"x\":0.05},\"mapbox\":{\"style\":\"light\"}}},\"showlegend\":false,\"title\":{\"text\":\"Financial Transactions Graph\"}},                        {\"responsive\": true}                    ).then(function(){\n",
       "                            \n",
       "var gd = document.getElementById('b6be2ec6-9b86-4c47-ac34-ca5808dc4aae');\n",
       "var x = new MutationObserver(function (mutations, observer) {{\n",
       "        var display = window.getComputedStyle(gd).display;\n",
       "        if (!display || display === 'none') {{\n",
       "            console.log([gd, 'removed!']);\n",
       "            Plotly.purge(gd);\n",
       "            observer.disconnect();\n",
       "        }}\n",
       "}});\n",
       "\n",
       "// Listen for the removal of the full notebook cells\n",
       "var notebookContainer = gd.closest('#notebook-container');\n",
       "if (notebookContainer) {{\n",
       "    x.observe(notebookContainer, {childList: true});\n",
       "}}\n",
       "\n",
       "// Listen for the clearing of the current output cell\n",
       "var outputEl = gd.closest('.output');\n",
       "if (outputEl) {{\n",
       "    x.observe(outputEl, {childList: true});\n",
       "}}\n",
       "\n",
       "                        })                };                });            </script>        </div>"
      ]
     },
     "metadata": {},
     "output_type": "display_data"
    }
   ],
   "source": [
    "import plotly.graph_objects as go\n",
    "\n",
    "def visualize_graph_plotly(transactions):\n",
    "    G = nx.DiGraph()\n",
    "    \n",
    "    for source, target, relation in transactions:\n",
    "        G.add_edge(source, target, label=relation)\n",
    "    \n",
    "    pos = nx.spring_layout(G, seed=42)\n",
    "    \n",
    "    edge_x = []\n",
    "    edge_y = []\n",
    "    for edge in G.edges():\n",
    "        x0, y0 = pos[edge[0]]\n",
    "        x1, y1 = pos[edge[1]]\n",
    "        edge_x.append(x0)\n",
    "        edge_x.append(x1)\n",
    "        edge_x.append(None)\n",
    "        edge_y.append(y0)\n",
    "        edge_y.append(y1)\n",
    "        edge_y.append(None)\n",
    "    \n",
    "    edge_trace = go.Scatter(\n",
    "        x=edge_x, y=edge_y,\n",
    "        line=dict(width=1, color='gray'),\n",
    "        hoverinfo='none',\n",
    "        mode='lines'\n",
    "    )\n",
    "    \n",
    "    node_x = []\n",
    "    node_y = []\n",
    "    node_text = []\n",
    "    for node in G.nodes():\n",
    "        x, y = pos[node]\n",
    "        node_x.append(x)\n",
    "        node_y.append(y)\n",
    "        node_text.append(str(node))\n",
    "    \n",
    "    node_trace = go.Scatter(\n",
    "        x=node_x, y=node_y,\n",
    "        mode='markers+text',\n",
    "        text=node_text,\n",
    "        marker=dict(size=20, color='blue', line=dict(width=2, color='black')),\n",
    "        textposition=\"top center\"\n",
    "    )\n",
    "    \n",
    "    fig = go.Figure(data=[edge_trace, node_trace])\n",
    "    fig.update_layout(showlegend=False, title=\"Financial Transactions Graph\")\n",
    "    fig.show()\n",
    "\n",
    "# Call interactive visualization\n",
    "visualize_graph_plotly(transactions)\n"
   ]
  },
  {
   "cell_type": "code",
   "execution_count": 21,
   "id": "c7e7e855-eea9-48a0-9f5f-618db03ac1f7",
   "metadata": {},
   "outputs": [],
   "source": [
    "def detect_failure_modes(session):\n",
    "    # High transaction frequency\n",
    "    session.run(\"\"\"\n",
    "    MATCH (t:Transaction)\n",
    "    WITH t.account_from AS account, COUNT(t) AS transaction_count\n",
    "    WHERE transaction_count > 10\n",
    "    MATCH (t:Transaction {account_from: account})\n",
    "    SET t:Failure_HighFrequency\n",
    "    \"\"\")\n",
    "\n",
    "    # Large transactions\n",
    "    session.run(\"\"\"\n",
    "    MATCH (t:Transaction)\n",
    "    WHERE t.amount > 10000\n",
    "    SET t:Failure_LargeTransaction\n",
    "    \"\"\")\n",
    "\n",
    "    # Repeated failed transactions\n",
    "    session.run(\"\"\"\n",
    "    MATCH (t:Transaction)\n",
    "    WHERE t.status = 'failed'\n",
    "    WITH t.account_from AS account, COUNT(t) AS fail_count\n",
    "    WHERE fail_count > 3\n",
    "    MATCH (t:Transaction {account_from: account})\n",
    "    SET t:Failure_RepeatedFailures\n",
    "    \"\"\")\n",
    "\n",
    "    print(\"Failure modes detected and tagged in Neo4j!\")\n",
    "\n"
   ]
  },
  {
   "cell_type": "code",
   "execution_count": 22,
   "id": "d2ec0fe6-5d1f-4c45-96e7-f23dc7afc2ca",
   "metadata": {},
   "outputs": [],
   "source": [
    "import networkx as nx\n",
    "import matplotlib.pyplot as plt\n",
    "\n",
    "def fetch_graph_data():\n",
    "    with GraphDatabase.driver(NEO4J_URI, auth=(NEO4J_USER, NEO4J_PASSWORD)) as driver:\n",
    "        with driver.session() as session:\n",
    "            query = \"\"\"\n",
    "            MATCH (t1:Transaction)-[r]->(t2:Transaction)\n",
    "            RETURN t1.id AS source, t2.id AS target, type(r) AS relation, \n",
    "                   t1.amount AS amount, t1.status AS status,\n",
    "                   CASE \n",
    "                        WHEN t1:Failure_HighFrequency THEN 'HighFrequency'\n",
    "                        WHEN t1:Failure_LargeTransaction THEN 'LargeTransaction'\n",
    "                        WHEN t1:Failure_RepeatedFailures THEN 'RepeatedFailures'\n",
    "                        ELSE 'Normal'\n",
    "                   END AS failure_mode\n",
    "            \"\"\"\n",
    "            result = session.run(query)\n",
    "            transactions = [(record[\"source\"], record[\"target\"], record[\"failure_mode\"]) for record in result]\n",
    "            return transactions\n"
   ]
  },
  {
   "cell_type": "code",
   "execution_count": 26,
   "id": "a1b54508-d2ea-4983-8b0e-fffadc650cb2",
   "metadata": {},
   "outputs": [
    {
     "name": "stderr",
     "output_type": "stream",
     "text": [
      "Received notification from DBMS server: {severity: WARNING} {code: Neo.ClientNotification.Statement.UnknownLabelWarning} {category: UNRECOGNIZED} {title: The provided label is not in the database.} {description: One of the labels in your query is not available in the database, make sure you didn't misspell it or that the label is available when you run this statement in your application (the missing label name is: Failure_HighFrequency)} {position: line: 6, column: 33, offset: 251} for query: \"\\n            MATCH (t1:Transaction)-[r]->(t2:Transaction)\\n            RETURN t1.id AS source, t2.id AS target, type(r) AS relation, \\n                   t1.amount AS amount, t1.status AS status,\\n                   CASE \\n                        WHEN t1:Failure_HighFrequency THEN 'HighFrequency'\\n                        WHEN t1:Failure_LargeTransaction THEN 'LargeTransaction'\\n                        WHEN t1:Failure_RepeatedFailures THEN 'RepeatedFailures'\\n                        ELSE 'Normal'\\n                   END AS failure_mode\\n            \"\n",
      "Received notification from DBMS server: {severity: WARNING} {code: Neo.ClientNotification.Statement.UnknownLabelWarning} {category: UNRECOGNIZED} {title: The provided label is not in the database.} {description: One of the labels in your query is not available in the database, make sure you didn't misspell it or that the label is available when you run this statement in your application (the missing label name is: Failure_LargeTransaction)} {position: line: 7, column: 33, offset: 326} for query: \"\\n            MATCH (t1:Transaction)-[r]->(t2:Transaction)\\n            RETURN t1.id AS source, t2.id AS target, type(r) AS relation, \\n                   t1.amount AS amount, t1.status AS status,\\n                   CASE \\n                        WHEN t1:Failure_HighFrequency THEN 'HighFrequency'\\n                        WHEN t1:Failure_LargeTransaction THEN 'LargeTransaction'\\n                        WHEN t1:Failure_RepeatedFailures THEN 'RepeatedFailures'\\n                        ELSE 'Normal'\\n                   END AS failure_mode\\n            \"\n",
      "Received notification from DBMS server: {severity: WARNING} {code: Neo.ClientNotification.Statement.UnknownLabelWarning} {category: UNRECOGNIZED} {title: The provided label is not in the database.} {description: One of the labels in your query is not available in the database, make sure you didn't misspell it or that the label is available when you run this statement in your application (the missing label name is: Failure_RepeatedFailures)} {position: line: 8, column: 33, offset: 407} for query: \"\\n            MATCH (t1:Transaction)-[r]->(t2:Transaction)\\n            RETURN t1.id AS source, t2.id AS target, type(r) AS relation, \\n                   t1.amount AS amount, t1.status AS status,\\n                   CASE \\n                        WHEN t1:Failure_HighFrequency THEN 'HighFrequency'\\n                        WHEN t1:Failure_LargeTransaction THEN 'LargeTransaction'\\n                        WHEN t1:Failure_RepeatedFailures THEN 'RepeatedFailures'\\n                        ELSE 'Normal'\\n                   END AS failure_mode\\n            \"\n"
     ]
    },
    {
     "data": {
      "image/png": "[encoded data removed]",
      "text/plain": [
       "<Figure size 1200x600 with 1 Axes>"
      ]
     },
     "metadata": {},
     "output_type": "display_data"
    }
   ],
   "source": [
    "def visualize_graph():\n",
    "    transactions = fetch_graph_data()\n",
    "\n",
    "    if not transactions:\n",
    "        print(\"⚠️ No transactions found!\")\n",
    "        return\n",
    "\n",
    "    G = nx.DiGraph()  # Directed graph\n",
    "\n",
    "    color_map = {\n",
    "        \"Normal\": \"blue\",\n",
    "        \"HighFrequency\": \"red\",\n",
    "        \"LargeTransaction\": \"orange\",\n",
    "        \"RepeatedFailures\": \"purple\"\n",
    "    }\n",
    "\n",
    "    for source, target, failure_mode in transactions:\n",
    "        G.add_edge(source, target, color=color_map.get(failure_mode, \"blue\"))\n",
    "\n",
    "    # Set node colors based on failure mode\n",
    "    edge_colors = [G[u][v][\"color\"] for u, v in G.edges()]\n",
    "    \n",
    "    plt.figure(figsize=(12, 6))\n",
    "    pos = nx.spring_layout(G)\n",
    "    nx.draw(G, pos, with_labels=True, edge_color=edge_colors, node_size=500, font_size=10)\n",
    "    plt.title(\"Transaction Graph with Failure Modes\")\n",
    "    plt.show()\n",
    "\n",
    "# Run visualization\n",
    "visualize_graph()\n"
   ]
  },
  {
   "cell_type": "code",
   "execution_count": null,
   "id": "626b4c77-d5d0-4544-a9ad-f95489f4509b",
   "metadata": {},
   "outputs": [],
   "source": []
  }
 ],
 "metadata": {
  "kernelspec": {
   "display_name": "Python 3 (ipykernel)",
   "language": "python",
   "name": "python3"
  },
  "language_info": {
   "codemirror_mode": {
    "name": "ipython",
    "version": 3
   },
   "file_extension": ".py",
   "mimetype": "text/x-python",
   "name": "python",
   "nbconvert_exporter": "python",
   "pygments_lexer": "ipython3",
   "version": "3.12.7"
  }
 },
 "nbformat": 4,
 "nbformat_minor": 5
}
